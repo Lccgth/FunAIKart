{
 "cells": [
  {
   "cell_type": "code",
   "execution_count": null,
   "metadata": {},
   "outputs": [],
   "source": [
    "import unity\n",
    "\n",
    "unity.set_config('Records', True)\n",
    "unity.set_config('Demo', True)\n",
    "unity.set_config('PickUps', True)\n",
    "unity.set_config('Screen', '960x540')"
   ]
  },
  {
   "cell_type": "code",
   "execution_count": null,
   "metadata": {},
   "outputs": [],
   "source": [
    "import unity\n",
    "\n",
    "unity.set_config('Records', False)\n",
    "unity.set_config('Demo', False)\n",
    "unity.set_config('PickUps', False)\n",
    "unity.set_config('Screen', False)"
   ]
  },
  {
   "cell_type": "code",
   "execution_count": null,
   "metadata": {},
   "outputs": [],
   "source": [
    "import ffmpeg\n",
    "(\n",
    "    ffmpeg\n",
    "    .input('dummy.mp4')\n",
    "    .drawtext(text='text', x=0, y=0, escape_text=True)\n",
    "    .output('dummy2.mp4')\n",
    "    .run()\n",
    ")"
   ]
  }
 ],
 "metadata": {
  "language_info": {
   "name": "python"
  },
  "orig_nbformat": 4
 },
 "nbformat": 4,
 "nbformat_minor": 2
}
